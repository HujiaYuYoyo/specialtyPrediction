{
 "cells": [
  {
   "cell_type": "code",
   "execution_count": 13,
   "metadata": {},
   "outputs": [],
   "source": [
    "import pandas as pd\n",
    "import numpy as np\n",
    "from scipy.sparse import csr_matrix\n",
    "from sklearn.cross_validation import train_test_split\n",
    "\n",
    "\n",
    "filepath = 'PartD_Prescriber_PUF_NPI_Drug_13.txt'\n",
    "# minimum number of samples per class\n",
    "mincounts = 5\n",
    "# number of rows of csv file to import\n",
    "numrows = 100000\n",
    "# train:test ratio for splitting the dataset\n",
    "ratio = 0.3"
   ]
  },
  {
   "cell_type": "code",
   "execution_count": 14,
   "metadata": {},
   "outputs": [],
   "source": [
    "# pre-processing\n",
    "\n",
    "data = pd.read_csv(filepath, delimiter=\"\\t\", nrows = numrows)\n",
    "\n",
    "newdf = data[['nppes_provider_last_org_name', 'specialty_description', 'drug_name']]\n",
    "# drop nan rows\n",
    "newdf = newdf.dropna(axis=1, how='any')\n",
    "# drop classes with number of samples less than predefined mincounts - not enough data\n",
    "g = newdf.groupby(by = 'specialty_description').filter(lambda x: len(x) > mincounts)\n",
    "# newdf.groupby('specialty_description').size()\n",
    "features = g.as_matrix(columns = ['nppes_provider_last_org_name','drug_name'])\n",
    "labels = g.as_matrix(columns = ['specialty_description'])\n",
    "\n",
    "# concatenate features into one vectors\n",
    "X = []\n",
    "for i in range(len(features)):\n",
    "    temp = []\n",
    "    for word in features[i]:\n",
    "        temp.extend(word.split())\n",
    "    X.append(temp)"
   ]
  },
  {
   "cell_type": "code",
   "execution_count": 15,
   "metadata": {},
   "outputs": [
    {
     "name": "stdout",
     "output_type": "stream",
     "text": [
      "Finished constructing CSR matrix for features... \n",
      "It is a matrix of (99958, 4535).\n"
     ]
    }
   ],
   "source": [
    "# since our feature matrix is sparse - use scipy.csr sparse matrix \n",
    "indices = []\n",
    "data = []\n",
    "indptr = [0]\n",
    "vocab = {}\n",
    "for row in X:\n",
    "    for term in row:\n",
    "        index = vocab.setdefault(term, len(vocab))\n",
    "        indices.append(index)\n",
    "        data.append(1)\n",
    "    indptr.append(len(indices))\n",
    "\n",
    "X = csr_matrix((data, indices, indptr), dtype = int).toarray()\n",
    "print 'Finished constructing CSR matrix for features... \\nIt is a matrix of {}.'.format(X.shape)"
   ]
  },
  {
   "cell_type": "code",
   "execution_count": 16,
   "metadata": {},
   "outputs": [],
   "source": [
    "# get ground truth labels\n",
    "\n",
    "_, idx = np.unique(labels, return_index=True)\n",
    "gtlabels = labels[np.sort(idx)]\n"
   ]
  },
  {
   "cell_type": "code",
   "execution_count": 17,
   "metadata": {},
   "outputs": [
    {
     "name": "stdout",
     "output_type": "stream",
     "text": [
      "69970 4535\n",
      "66\n"
     ]
    }
   ],
   "source": [
    "# splitting data into train and test\n",
    "labels = np.reshape(labels, (len(labels), ))\n",
    "x_train, x_test, y_train, y_test = train_test_split(X, labels, test_size = ratio)\n",
    "train_samples, n_features = x_train.shape\n",
    "n_classes = len(gtlabels)\n",
    "\n",
    "print train_samples, n_features\n",
    "print n_classes"
   ]
  },
  {
   "cell_type": "code",
   "execution_count": 7,
   "metadata": {},
   "outputs": [
    {
     "name": "stderr",
     "output_type": "stream",
     "text": [
      "/Users/hujiayu/anaconda2/lib/python2.7/site-packages/sklearn/linear_model/sag.py:326: ConvergenceWarning: The max_iter was reached which means the coef_ did not converge\n",
      "  \"the coef_ did not converge\", ConvergenceWarning)\n"
     ]
    },
    {
     "data": {
      "text/plain": [
       "0.91593303988261976"
      ]
     },
     "execution_count": 7,
     "metadata": {},
     "output_type": "execute_result"
    }
   ],
   "source": [
    "from sklearn.linear_model import LogisticRegression\n",
    "solver = 'saga'\n",
    "\n",
    "lr = LogisticRegression(solver=solver, \n",
    "                        multi_class= 'multinomial', \n",
    "                        C=1,\n",
    "                        penalty = 'l1',\n",
    "                        fit_intercept=True,\n",
    "                        max_iter=10,\n",
    "                        random_state=42, \n",
    "                       )\n",
    "lr.fit(x_train, y_train)\n",
    "\n",
    "y_pred = lr.predict(x_test)\n",
    "np.sum(y_pred == y_test) *1./ y_test.shape[0]\n",
    "\n",
    "# receiving convergence warning on data of 100000 - possible solutions are : 1. increase max iteraction (right now\n",
    "# it is 10) or 2. data simply can't be fitted by a logistic model"
   ]
  },
  {
   "cell_type": "code",
   "execution_count": 8,
   "metadata": {},
   "outputs": [
    {
     "data": {
      "text/plain": [
       "0.86051087101507273"
      ]
     },
     "execution_count": 8,
     "metadata": {},
     "output_type": "execute_result"
    }
   ],
   "source": [
    "from sklearn.naive_bayes import MultinomialNB\n",
    "\n",
    "clf = MultinomialNB().fit(x_train, y_train)\n",
    "predicted = clf.predict(x_test)\n",
    "np.mean(predicted == y_test)    "
   ]
  },
  {
   "cell_type": "code",
   "execution_count": 18,
   "metadata": {},
   "outputs": [
    {
     "data": {
      "text/plain": [
       "0.8666133119914633"
      ]
     },
     "execution_count": 18,
     "metadata": {},
     "output_type": "execute_result"
    }
   ],
   "source": [
    "from sklearn.linear_model import SGDClassifier\n",
    "clf = SGDClassifier(loss='hinge', penalty='l2',\n",
    "              alpha=1e-3, random_state=42,\n",
    "              max_iter=10, tol=None).fit(x_train, y_train)\n",
    "predicted = clf.predict(x_test)\n",
    "np.mean(predicted == y_test)    "
   ]
  },
  {
   "cell_type": "code",
   "execution_count": 10,
   "metadata": {},
   "outputs": [
    {
     "name": "stdout",
     "output_type": "stream",
     "text": [
      "                                                                precision    recall  f1-score   support\n",
      "\n",
      "                                             Internal Medicine       0.92      0.93      0.93      7559\n",
      "                                                Anesthesiology       0.86      0.80      0.83        88\n",
      "                                                       Dentist       0.81      0.59      0.68       223\n",
      "                                            Nurse Practitioner       0.93      0.82      0.87      3106\n",
      "                                               Family Practice       0.79      0.97      0.87      9594\n",
      "                                         Obstetrics/Gynecology       0.85      0.52      0.65       258\n",
      "                                           Physician Assistant       0.95      0.75      0.84      1637\n",
      "                                                    Cardiology       0.94      0.84      0.89      1012\n",
      "                                                   Dermatology       0.97      0.73      0.83       181\n",
      "                          Physical Medicine and Rehabilitation       0.89      0.61      0.73       134\n",
      "                                            Radiation Oncology       0.00      0.00      0.00        21\n",
      "                                            Infectious Disease       0.47      0.33      0.39        64\n",
      "                                            Orthopedic Surgery       0.80      0.35      0.49       114\n",
      "                                                 Endocrinology       0.91      0.96      0.94       297\n",
      "                                                       Urology       0.90      0.66      0.76       221\n",
      "                                            Emergency Medicine       0.98      0.62      0.76       423\n",
      "                                                     Neurology       0.95      0.81      0.87       471\n",
      "                                                    Nephrology       0.97      0.93      0.95       386\n",
      "                                           Preventive Medicine       0.00      0.00      0.00         1\n",
      "                                                  Hand Surgery       0.00      0.00      0.00         7\n",
      "                                             Pulmonary Disease       0.96      0.84      0.89       182\n",
      "                                                Otolaryngology       0.99      0.60      0.75       110\n",
      "                            Plastic and Reconstructive Surgery       0.00      0.00      0.00         6\n",
      "                                              General Practice       0.84      0.89      0.87       460\n",
      "                                            Allergy/Immunology       0.92      0.40      0.55        58\n",
      "                                                    Psychiatry       0.92      0.87      0.90       725\n",
      "                                                 Ophthalmology       0.80      0.88      0.84       530\n",
      "                                        Psychiatry & Neurology       0.95      0.68      0.80       165\n",
      "                                               General Surgery       1.00      0.40      0.57        97\n",
      "                                            Geriatric Medicine       0.94      0.88      0.91       198\n",
      "Student in an Organized Health Care Education/Training Program       0.96      0.40      0.56       317\n",
      "                                              Gastroenterology       0.92      0.64      0.76       252\n",
      "                                              Thoracic Surgery       1.00      0.60      0.75        20\n",
      "                                               Neuropsychiatry       0.00      0.00      0.00         8\n",
      "                                               Pain Management       0.97      0.70      0.82        44\n",
      "                                  Oral Surgery (dentists only)       0.00      0.00      0.00        16\n",
      "                                                      Podiatry       0.95      0.31      0.47        67\n",
      "                                           Hematology/Oncology       0.97      0.89      0.93       160\n",
      "                                                     Optometry       0.85      0.25      0.39       110\n",
      "                                                  Neurosurgery       0.00      0.00      0.00        25\n",
      "                                                     Counselor       0.00      0.00      0.00         2\n",
      "                                              Medical Oncology       0.91      0.91      0.91        56\n",
      "                                            Pediatric Medicine       0.71      0.55      0.62        31\n",
      "                                                    Specialist       0.00      0.00      0.00        14\n",
      "                           Certified Clinical Nurse Specialist       0.00      0.00      0.00        10\n",
      "                                                    Naturopath       0.00      0.00      0.00         7\n",
      "                             Osteopathic Manipulative Medicine       1.00      0.94      0.97        34\n",
      "                          Psychologist (billing independently)       0.00      0.00      0.00         4\n",
      "                                           Orthopaedic Surgery       0.00      0.00      0.00         5\n",
      "                                               Family Medicine       0.00      0.00      0.00         6\n",
      "                                                    Pharmacist       1.00      0.10      0.18        10\n",
      "                                                  Rheumatology       0.96      0.91      0.94       169\n",
      "                                              Vascular Surgery       0.00      0.00      0.00        10\n",
      "                                                 Clinic/Center       0.00      0.00      0.00         1\n",
      "                                  Critical Care (Intensivists)       0.00      0.00      0.00        31\n",
      "                                                    Hematology       0.00      0.00      0.00         7\n",
      "                                         Maxillofacial Surgery       0.00      0.00      0.00         3\n",
      "                                Interventional Pain Management       0.90      1.00      0.95       158\n",
      "                                              Registered Nurse       0.00      0.00      0.00         3\n",
      "                                     Cardiac Electrophysiology       1.00      0.80      0.89        44\n",
      "                                               Sports Medicine       0.00      0.00      0.00         5\n",
      "                                         Clinical Psychologist       0.90      1.00      0.95        18\n",
      "                                                Sleep Medicine       0.00      0.00      0.00         6\n",
      "                      Colorectal Surgery (formerly proctology)       0.00      0.00      0.00         2\n",
      "                                          Geriatric Psychiatry       0.00      0.00      0.00         2\n",
      "                                            Addiction Medicine       0.00      0.00      0.00         3\n",
      "\n",
      "                                                   avg / total       0.87      0.87      0.86     29988\n",
      "\n"
     ]
    },
    {
     "name": "stderr",
     "output_type": "stream",
     "text": [
      "/Users/hujiayu/anaconda2/lib/python2.7/site-packages/sklearn/metrics/classification.py:1135: UndefinedMetricWarning: Precision and F-score are ill-defined and being set to 0.0 in labels with no predicted samples.\n",
      "  'precision', 'predicted', average, warn_for)\n"
     ]
    }
   ],
   "source": [
    "# take a look at precision vs. recall metrics\n",
    "\n",
    "from sklearn import metrics\n",
    "\n",
    "print(metrics.classification_report(y_test, predicted,\n",
    "                                    gtlabels))"
   ]
  },
  {
   "cell_type": "code",
   "execution_count": 11,
   "metadata": {},
   "outputs": [
    {
     "data": {
      "text/plain": [
       "0.88183507217378876"
      ]
     },
     "execution_count": 11,
     "metadata": {},
     "output_type": "execute_result"
    }
   ],
   "source": [
    "# check for overfitting - see there is a large gap between train accuracy and test accuracy\n",
    "predicted = clf.predict(x_train)\n",
    "np.mean(predicted == y_train)  "
   ]
  },
  {
   "cell_type": "code",
   "execution_count": 12,
   "metadata": {},
   "outputs": [
    {
     "name": "stdout",
     "output_type": "stream",
     "text": [
      "4464\n",
      "66\n"
     ]
    }
   ],
   "source": [
    "# unique features vs. unique labels\n",
    "# to see how many labels sort of share the same features \n",
    "# if # of unique features > # of unique labels - some classes share exactly the same features\n",
    "# which will cause difficulty in learning to discriminate\n",
    "print np.unique(features).shape[0]\n",
    "print np.unique(labels).shape[0]"
   ]
  }
 ],
 "metadata": {
  "kernelspec": {
   "display_name": "Python 2",
   "language": "python",
   "name": "python2"
  },
  "language_info": {
   "codemirror_mode": {
    "name": "ipython",
    "version": 2
   },
   "file_extension": ".py",
   "mimetype": "text/x-python",
   "name": "python",
   "nbconvert_exporter": "python",
   "pygments_lexer": "ipython2",
   "version": "2.7.14"
  }
 },
 "nbformat": 4,
 "nbformat_minor": 2
}
